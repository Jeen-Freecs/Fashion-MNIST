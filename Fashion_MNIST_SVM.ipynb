{
  "nbformat": 4,
  "nbformat_minor": 0,
  "metadata": {
    "colab": {
      "name": "Fashion MNIST SVM.ipynb",
      "provenance": []
    },
    "kernelspec": {
      "name": "python3",
      "display_name": "Python 3"
    },
    "language_info": {
      "name": "python"
    }
  },
  "cells": [
    {
      "cell_type": "markdown",
      "metadata": {
        "id": "9iN3371_TfEP"
      },
      "source": [
        "# Support-Vector Machine on Fashion MNIST\n",
        "This algorithm classifies data points using optimal hyperplane for categorization. We have tried to get accuracy score with two kernels: Radial Basis Function (RBF) and Polynomial"
      ]
    },
    {
      "cell_type": "markdown",
      "metadata": {
        "id": "XyIbc5vZTit5"
      },
      "source": [
        "First, we import all necessary libraries. We will accuracy_score to evaluate accuracy of our algorithm, SVC and Pipeline for SVM algorithm. This is described in details in Methods section. Then we import our data and split it to train and test sample (6000 / 1000 by default)"
      ]
    },
    {
      "cell_type": "code",
      "metadata": {
        "id": "U4SHwz_sIjOO"
      },
      "source": [
        "%matplotlib inline\n",
        "import tensorflow as tf\n",
        "from tensorflow import keras\n",
        "import numpy as np\n",
        "import matplotlib.pyplot as plt\n",
        "from sklearn.decomposition import PCA\n",
        "from sklearn.metrics import accuracy_score\n",
        "from sklearn.metrics import precision_score\n",
        "from sklearn.metrics import recall_score\n",
        "from sklearn.pipeline import Pipeline\n",
        "from sklearn.svm import SVC\n",
        "from sklearn import metrics\n",
        "from sklearn.svm import SVC\n",
        "\n",
        "mnist_fashion_data = keras.datasets.fashion_mnist # import neccessary Fashion dataset\n",
        "(X_train_initial, y_train), (X_test_initial, y_test) = mnist_fashion_data.load_data() "
      ],
      "execution_count": null,
      "outputs": []
    },
    {
      "cell_type": "markdown",
      "metadata": {
        "id": "4PctGBnQTqmi"
      },
      "source": [
        "Define class names for our data set. It includes types of clothes"
      ]
    },
    {
      "cell_type": "code",
      "metadata": {
        "id": "Zxd8qWclGkA-"
      },
      "source": [
        "class_names = ['T_shirt/top', 'Trouser', 'Pullover', 'Dress', 'Coat', \n",
        "               'Sandal', 'Shirt', 'Sneaker', 'Bag', 'Ankle boot']"
      ],
      "execution_count": null,
      "outputs": []
    },
    {
      "cell_type": "markdown",
      "metadata": {
        "id": "7VXPij-5Tt7k"
      },
      "source": [
        "Then we normalize our train and test images, and convert 2d array to 1d array for practical purposes"
      ]
    },
    {
      "cell_type": "code",
      "metadata": {
        "id": "bz2MPHy9KmvP"
      },
      "source": [
        "X_test_initial=X_test_initial/np.float32(255)\n",
        "X_train_initial=X_train_initial/np.float32(255)\n",
        "\n",
        "def dimension_converter(np_array):\n",
        "  arr = [] #create empty 1d array\n",
        "  dimension = np_array.shape\n",
        "  for i in range(dimension[0]):\n",
        "    arr.append(np_array[i].flatten()) #return a copy of np_array in  1 dimension and append it to initially empty array\n",
        "  arr = np.array(arr)\n",
        "  return arr\n",
        "\n",
        "X_train = dimension_converter (X_train_initial)\n",
        "X_test = dimension_converter (X_test_initial)\n",
        "\n"
      ],
      "execution_count": null,
      "outputs": []
    },
    {
      "cell_type": "markdown",
      "metadata": {
        "id": "lLLukGnNTxAY"
      },
      "source": [
        "Next we conduct principal component analysis with 50 principal components. More on it can be found in Methods section"
      ]
    },
    {
      "cell_type": "code",
      "metadata": {
        "colab": {
          "base_uri": "https://localhost:8080/",
          "height": 295
        },
        "id": "i5TPwki2N966",
        "outputId": "861eccc9-0667-471f-bc49-e28c57ae1466"
      },
      "source": [
        "pca = PCA(n_components=50)\n",
        "pca_fit = pca.fit_transform(X_train)\n",
        "variances =pca.explained_variance_ratio_\n",
        "\n",
        "plt.xlabel('Number of components')\n",
        "plt.ylabel('Cumulative explained variance')\n",
        "plt.title('Number of principal components vs cumulative explained variance')\n",
        "plt.plot(np.cumsum(variances))\n",
        "plt.plot([0,50],[0.8,0.8],lw=1)\n",
        "plt.show()"
      ],
      "execution_count": null,
      "outputs": [
        {
          "output_type": "display_data",
          "data": {
            "image/png": "[encoded data removed]",
            "text/plain": [
              "<Figure size 432x288 with 1 Axes>"
            ]
          },
          "metadata": {
            "needs_background": "light"
          }
        }
      ]
    },
    {
      "cell_type": "markdown",
      "metadata": {
        "id": "DcxIaeyHT0gp"
      },
      "source": [
        "# Employing SVM with different kernels"
      ]
    },
    {
      "cell_type": "markdown",
      "metadata": {
        "id": "s8RuCtsdT1qE"
      },
      "source": [
        "KNN with RBF kernel. We use hyperparameter C = 100, and gamma = 0.1. First, we train model with 25 components then we fit it , get predicted labels and find accuracy score. Same algorithm is done with polynomial kernel but we have looked at polynomials with degree 3 and 5"
      ]
    },
    {
      "cell_type": "code",
      "metadata": {
        "id": "-yCgaJ8RO9mD"
      },
      "source": [
        "p_svm = Pipeline([('pca', PCA(n_components=25)),('clf',SVC(C=100,kernel='rbf',gamma=0.1))])\n",
        "p_svm.fit(X_train, y_train)\n",
        "p_predict = p_svm.predict(X_test)"
      ],
      "execution_count": null,
      "outputs": []
    },
    {
      "cell_type": "code",
      "metadata": {
        "colab": {
          "base_uri": "https://localhost:8080/"
        },
        "id": "NZUecPEIad1r",
        "outputId": "7942c73f-d768-44a6-ac2f-2622713f1569"
      },
      "source": [
        "print('Accuracy score of SVM with rbf is: ' + str(accuracy_score(p_predict, y_test)))\n",
        "print('Precision score of SVM with rbf is:  ' + str(precision_score(y_test,p_predict, average='macro')))\n",
        "print('Recall score of SVM with rbf is:  ' + str(recall_score(y_test,p_predict, average='macro')))"
      ],
      "execution_count": null,
      "outputs": [
        {
          "output_type": "stream",
          "name": "stdout",
          "text": [
            "Accuracy score of SVM with rbf is: 0.8632\n",
            "Precision score of SVM with rbf is:  0.863648919837242\n",
            "Recall score of SVM with rbf is:  0.8632\n"
          ]
        }
      ]
    },
    {
      "cell_type": "code",
      "metadata": {
        "id": "h7FsNfHpN-OX"
      },
      "source": [
        "p_svm = Pipeline([('pca', PCA(n_components=25)),('clf',SVC(C=100,kernel='poly',degree=3))])\n",
        "p_svm.fit(X_train, y_train)\n",
        "p_predict = p_svm.predict(X_test)"
      ],
      "execution_count": null,
      "outputs": []
    },
    {
      "cell_type": "code",
      "metadata": {
        "colab": {
          "base_uri": "https://localhost:8080/"
        },
        "id": "UQede-FZbAyX",
        "outputId": "21146e15-6950-41af-dd45-4961f0eb3646"
      },
      "source": [
        "print('Accuracy score of SVM with poly and degree 3 is: ' + str(accuracy_score(p_predict, y_test)))\n",
        "print('Precision scoreof SVM with poly and degree 3 is:  ' + str(precision_score(y_test,p_predict, average='macro')))\n",
        "print('Recall score oof SVM with poly and degree 3 is:  ' + str(recall_score(y_test,p_predict, average='macro')))"
      ],
      "execution_count": null,
      "outputs": [
        {
          "output_type": "stream",
          "name": "stdout",
          "text": [
            "Accuracy score of SVM with poly and degree 3 is: 0.8795\n",
            "Precision scoreof SVM with poly and degree 3 is:  0.8794626909771133\n",
            "Recall score oof SVM with poly and degree 3 is:  0.8795\n"
          ]
        }
      ]
    },
    {
      "cell_type": "code",
      "metadata": {
        "id": "U_VObipOT76h"
      },
      "source": [
        "p_svm = Pipeline([('pca', PCA(n_components=25)),('clf',SVC(C=100,kernel='poly',degree=5))])\n",
        "p_svm.fit(X_train, y_train)\n",
        "p_predict = p_svm.predict(X_test)"
      ],
      "execution_count": null,
      "outputs": []
    },
    {
      "cell_type": "code",
      "metadata": {
        "colab": {
          "base_uri": "https://localhost:8080/"
        },
        "id": "33GN2x9hbMWH",
        "outputId": "dc3f4165-1266-4a0d-a5ca-4c7865df9d2d"
      },
      "source": [
        "print('Accuracy score of SVM with poly and degree 5 is: ' + str(accuracy_score(p_predict, y_test)))\n",
        "print('Precision scoreof SVM with poly and degree 5 is:  ' + str(precision_score(y_test,p_predict, average='macro')))\n",
        "print('Recall score oof SVM with poly and degree 5 is:  ' + str(recall_score(y_test,p_predict, average='macro')))"
      ],
      "execution_count": null,
      "outputs": [
        {
          "output_type": "stream",
          "name": "stdout",
          "text": [
            "Accuracy score of SVM with poly and degree 5 is: 0.8693\n",
            "Precision scoreof SVM with poly and degree 5 is:  0.8713001139257083\n",
            "Recall score oof SVM with poly and degree 5 is:  0.8693\n"
          ]
        }
      ]
    }
  ]
}